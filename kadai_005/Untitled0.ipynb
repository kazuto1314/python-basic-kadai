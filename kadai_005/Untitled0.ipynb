{
  "nbformat": 4,
  "nbformat_minor": 0,
  "metadata": {
    "colab": {
      "provenance": []
    },
    "kernelspec": {
      "name": "python3",
      "display_name": "Python 3"
    },
    "language_info": {
      "name": "python"
    }
  },
  "cells": [
    {
      "cell_type": "code",
      "execution_count": 6,
      "metadata": {
        "colab": {
          "base_uri": "https://localhost:8080/"
        },
        "id": "Jq9xHk-Owip7",
        "outputId": "9f0331f6-d3de-4095-bdfa-56acb6cc41ff"
      },
      "outputs": [
        {
          "output_type": "stream",
          "name": "stdout",
          "text": [
            "75.0 cm²\n"
          ]
        }
      ],
      "source": [
        "upper_side = 10\n",
        "under_side = 20\n",
        "height = 5\n",
        "\n",
        "area = ((upper_side + under_side)*height) / 2\n",
        "\n",
        "print(str(area) + \" cm²\")\n"
      ]
    }
  ]
}