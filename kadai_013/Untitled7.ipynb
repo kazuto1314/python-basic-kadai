{
  "nbformat": 4,
  "nbformat_minor": 0,
  "metadata": {
    "colab": {
      "provenance": []
    },
    "kernelspec": {
      "name": "python3",
      "display_name": "Python 3"
    },
    "language_info": {
      "name": "python"
    }
  },
  "cells": [
    {
      "cell_type": "code",
      "execution_count": null,
      "metadata": {
        "id": "j3VmxzxQG6Bc"
      },
      "outputs": [],
      "source": [
        "def total_price(price, tax):\n",
        "    tax_price = int(price) * tax\n",
        "    total_price = price + tax_price\n",
        "    return total_price\n",
        "\n",
        "purchased = True\n",
        "if purchased:\n",
        "    price = input(\"商品の金額:\")\n",
        "    price = int(price)\n",
        "else:\n",
        "    price = 0\n",
        "\n",
        "tax = 0.1\n",
        "\n",
        "result = total_price(price, tax)\n",
        "\n",
        "print(f\"合計金額: {result}\")\n"
      ]
    }
  ]
}