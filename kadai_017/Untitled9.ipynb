{
  "nbformat": 4,
  "nbformat_minor": 0,
  "metadata": {
    "colab": {
      "provenance": []
    },
    "kernelspec": {
      "name": "python3",
      "display_name": "Python 3"
    },
    "language_info": {
      "name": "python"
    }
  },
  "cells": [
    {
      "cell_type": "code",
      "source": [
        "class Human:\n",
        "    def __init__(self, name, age):\n",
        "        self.name = name\n",
        "        self.age = age\n",
        "\n",
        "    def check_adult(self):\n",
        "        if self.age >= 20:\n",
        "            return \"大人です\"\n",
        "        else:\n",
        "            return \"未成年です\"\n",
        "\n",
        "# Humanクラスのインスタンスのリストを作成\n",
        "persons = [\n",
        "    Human(\"侍一郎\", 28),\n",
        "    Human(\"侍二郎\", 23),\n",
        "    Human(\"侍三郎\", 18),\n",
        "    Human(\"侍四郎\", 10)\n",
        "]\n",
        "\n",
        "# 各インスタンスのcheck_adultメソッドを呼び出し、結果を表示\n",
        "for person in persons:\n",
        "    is_adult = person.check_adult()\n",
        "    print(f\"{person.name}({person.age}歳)は{is_adult}\")\n"
      ],
      "metadata": {
        "colab": {
          "base_uri": "https://localhost:8080/"
        },
        "id": "bhLds7k_4BAJ",
        "outputId": "21c4ad3e-bc9b-4c7e-9260-edcba0907610"
      },
      "execution_count": 12,
      "outputs": [
        {
          "output_type": "stream",
          "name": "stdout",
          "text": [
            "侍一郎(28歳)は大人です\n",
            "侍二郎(23歳)は大人です\n",
            "侍三郎(18歳)は未成年です\n",
            "侍四郎(10歳)は未成年です\n"
          ]
        }
      ]
    }
  ]
}